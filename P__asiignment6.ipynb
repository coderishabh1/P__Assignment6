{
 "cells": [
  {
   "cell_type": "markdown",
   "id": "9d6d8337-cd01-4d2e-9409-d0df8f32349e",
   "metadata": {},
   "source": [
    "##Ques 2"
   ]
  },
  {
   "cell_type": "code",
   "execution_count": 1,
   "id": "2dfaf402-87dd-4e6d-9de3-c9011a599efe",
   "metadata": {},
   "outputs": [
    {
     "name": "stdin",
     "output_type": "stream",
     "text": [
      " 5\n"
     ]
    },
    {
     "name": "stdout",
     "output_type": "stream",
     "text": [
      "120\n"
     ]
    }
   ],
   "source": [
    "num =  int (input())\n",
    "def fac (num):\n",
    "    if (num<=1):\n",
    "        return 1 \n",
    "    else:\n",
    "        return(num*fac(num-1))\n",
    "print(fac(num))"
   ]
  },
  {
   "cell_type": "markdown",
   "id": "4e7d899e-890b-42ad-8893-b14fc271a08e",
   "metadata": {},
   "source": [
    "##Quest 1"
   ]
  },
  {
   "cell_type": "code",
   "execution_count": null,
   "id": "bc44da5a-cd00-466c-ad9e-0b6b58dcecaa",
   "metadata": {},
   "outputs": [],
   "source": [
    "def fibonacci(n):\n",
    "    if(n <= 1):\n",
    "        return n\n",
    "    else:\n",
    "        return(fibonacci(n-1) + fibonacci(n-2))\n",
    "n = int(input(\"Enter number of terms:\"))\n",
    "print(\"Fibonacci sequence:\")\n",
    "for i in range(n):\n",
    "    print(fibonacci(i))"
   ]
  },
  {
   "cell_type": "markdown",
   "id": "0e4db782-323b-42e5-9050-d15afe0f52e0",
   "metadata": {},
   "source": [
    "##Ques3"
   ]
  },
  {
   "cell_type": "code",
   "execution_count": 6,
   "id": "98986e0d-fdec-4f3d-a14c-9f5b67ac4808",
   "metadata": {},
   "outputs": [
    {
     "name": "stdin",
     "output_type": "stream",
     "text": [
      " 65\n",
      " 6\n"
     ]
    },
    {
     "name": "stdout",
     "output_type": "stream",
     "text": [
      "BMI 20.06172839506173\n"
     ]
    }
   ],
   "source": [
    "Weight = float(input())\n",
    "Height = float(input()) #height in feet\n",
    "print(\"BMI\",(Weight/(Height*Height*.3*.3)))"
   ]
  },
  {
   "cell_type": "markdown",
   "id": "4ddc5887-68a3-4ee6-b061-dec2110c3636",
   "metadata": {},
   "source": [
    "##Ques 4"
   ]
  },
  {
   "cell_type": "code",
   "execution_count": 8,
   "id": "04af6afc-882b-41e5-9cb7-50d737b82021",
   "metadata": {},
   "outputs": [
    {
     "name": "stdin",
     "output_type": "stream",
     "text": [
      " 2\n"
     ]
    },
    {
     "name": "stdout",
     "output_type": "stream",
     "text": [
      "0.6931471805599453\n"
     ]
    }
   ],
   "source": [
    "import math\n",
    "num = int(input())\n",
    "print (math.log(num))"
   ]
  },
  {
   "cell_type": "markdown",
   "id": "1e967bf1-c3e6-4991-b1d4-026d801a44eb",
   "metadata": {},
   "source": [
    "##Question5"
   ]
  },
  {
   "cell_type": "code",
   "execution_count": 10,
   "id": "0cde3313-e92f-4253-adf5-5ecb1003c5b6",
   "metadata": {},
   "outputs": [
    {
     "name": "stdin",
     "output_type": "stream",
     "text": [
      " 3\n"
     ]
    },
    {
     "name": "stdout",
     "output_type": "stream",
     "text": [
      "37\n"
     ]
    }
   ],
   "source": [
    "num= int (input())\n",
    "sum=1\n",
    "for i in range (1,):\n",
    "    sum = sum + i**3\n",
    "print (sum)"
   ]
  },
  {
   "cell_type": "code",
   "execution_count": null,
   "id": "89ae17ec-ca18-480c-b4ca-3de41ee81d25",
   "metadata": {},
   "outputs": [],
   "source": []
  }
 ],
 "metadata": {
  "kernelspec": {
   "display_name": "Python 3 (ipykernel)",
   "language": "python",
   "name": "python3"
  },
  "language_info": {
   "codemirror_mode": {
    "name": "ipython",
    "version": 3
   },
   "file_extension": ".py",
   "mimetype": "text/x-python",
   "name": "python",
   "nbconvert_exporter": "python",
   "pygments_lexer": "ipython3",
   "version": "3.10.6"
  }
 },
 "nbformat": 4,
 "nbformat_minor": 5
}
